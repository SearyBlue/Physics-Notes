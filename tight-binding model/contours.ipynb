{
 "cells": [
  {
   "cell_type": "markdown",
   "metadata": {},
   "source": [
    "## Tight-Binding Dispersion\n",
    "\n",
    "$\n",
    "\\epsilon_{\\vec k} = -2t\\left[\\cos(k_x a_x) + \\cos(k_y a_y)\\right] - \\mu\n",
    "$\n",
    "\n",
    "## Tight-Binding Isoenergetic Contours\n",
    "\n",
    "$\n",
    "-2t\\left[\\cos(k_x a_x) + \\cos(k_y a_y)\\right] - \\mu = E\n",
    "$\n"
   ]
  },
  {
   "cell_type": "code",
   "execution_count": 1,
   "metadata": {},
   "outputs": [],
   "source": [
    "import matplotlib\n",
    "from matplotlib import pyplot as plt\n",
    "import numpy as np\n",
    "from ipywidgets import Layout, interact, FloatSlider\n",
    "#import ipywidgets as widgets\n",
    "font = {'size'   : 30}\n",
    "matplotlib.rc('font', **font)\n",
    "matplotlib.rcParams['text.usetex'] = True\n",
    "plt.rcParams[\"figure.figsize\"]= 14, 10\n",
    "plt.rcParams['figure.dpi'] = 90\n",
    "matplotlib.rcParams['lines.linewidth'] = 3"
   ]
  },
  {
   "cell_type": "code",
   "execution_count": 2,
   "metadata": {},
   "outputs": [
    {
     "data": {
      "application/vnd.jupyter.widget-view+json": {
       "model_id": "bf645d63b6ce4ab6a30ebe230311f98c",
       "version_major": 2,
       "version_minor": 0
      },
      "text/plain": [
       "interactive(children=(FloatSlider(value=0.0, description='mu', layout=Layout(width='1000px'), max=3.0, min=-3.…"
      ]
     },
     "metadata": {},
     "output_type": "display_data"
    }
   ],
   "source": [
    "def get_grid(N=10, a=1):\n",
    "    kx = np.linspace(-np.pi, np.pi, 200, endpoint=True) / a\n",
    "    ky = np.linspace(-np.pi, np.pi, 200, endpoint=True) / a\n",
    "    kx, ky = np.meshgrid(kx, ky)\n",
    "    return kx, ky\n",
    "\n",
    "def contours(mu):\n",
    "    a=1\n",
    "    t=1\n",
    "    kx, ky = get_grid()\n",
    "    Ek = -2*t*(np.cos(kx*a) + np.cos(ky*a)) - mu\n",
    "    CS1 = plt.contour(kx, ky, Ek, levels=[-2, -1, 1, 2], colors=[\"b\", \"b\", \"b\", \"b\"], linestyles = 'dashed')\n",
    "    CS2 = plt.contour(kx, ky, Ek, levels=[0], colors=[\"r\"])\n",
    "    plt.clabel(CS1, levels=[-2, -1, 1, 2], fontsize=20, fmt=\"E=%0.f\")\n",
    "    plt.clabel(CS2, levels=[0], fontsize=20, fmt=\"E=%0.f\")\n",
    "    plt.title(r\"$\\mu={}$\".format(mu))\n",
    "    plt.xlabel(r\"$k_x$\")\n",
    "    plt.ylabel(r\"$k_y$\")\n",
    "    plt.show()\n",
    "\n",
    "i = interact(contours, mu=FloatSlider(min=-3, max=3, step=0.1, layout=Layout(width='1000px')))"
   ]
  },
  {
   "cell_type": "code",
   "execution_count": null,
   "metadata": {},
   "outputs": [],
   "source": []
  }
 ],
 "metadata": {
  "kernelspec": {
   "display_name": "Python 3.9.2 64-bit",
   "language": "python",
   "name": "python39264bit3c60796a59e24a1da61d86f120d9a97f"
  },
  "language_info": {
   "codemirror_mode": {
    "name": "ipython",
    "version": 3
   },
   "file_extension": ".py",
   "mimetype": "text/x-python",
   "name": "python",
   "nbconvert_exporter": "python",
   "pygments_lexer": "ipython3",
   "version": "3.9.6"
  }
 },
 "nbformat": 4,
 "nbformat_minor": 4
}
