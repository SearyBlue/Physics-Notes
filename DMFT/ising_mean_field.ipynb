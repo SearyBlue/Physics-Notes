{
 "cells": [
  {
   "cell_type": "code",
   "execution_count": null,
   "id": "b1d510ed-97a8-4e49-a811-9ff1d5338a7c",
   "metadata": {},
   "outputs": [],
   "source": [
    "import itertools\n",
    "from tqdm import tqdm\n",
    "from time import sleep\n",
    "from time import time\n",
    "from math import sqrt\n",
    "from multiprocessing import Pool\n",
    "from itertools import product, repeat\n",
    "import matplotlib as mpl\n",
    "from matplotlib import pyplot as plt\n",
    "import numpy as np\n",
    "from qutip import *\n",
    "from scipy.signal import peak_widths\n",
    "from scipy.optimize import curve_fit\n",
    "from functools import partial\n",
    "import warnings\n",
    "from scipy.sparse.linalg import eigsh\n",
    "from scipy.linalg import eigh\n",
    "import numpy.linalg\n",
    "import os, sys\n",
    "from scipy.signal import savgol_filter\n",
    "from scipy.signal import find_peaks\n",
    "from os import devnull\n",
    "import matplotlib.animation as animation\n",
    "import pickle\n",
    "import matplotlib.ticker as mtick\n",
    "plt.style.use('ggplot')\n",
    "cols = [p['color'] for p in plt.rcParams['axes.prop_cycle']]\n",
    "plt.rc('text.latex', preamble=r'\\usepackage{amsmath}\\usepackage{braket}\\usepackage{nicefrac}')\n",
    "plt.rcParams.update({'font.size': 30,\n",
    "                     'figure.figsize': (11,7),\n",
    "                     'axes.facecolor': 'white',\n",
    "                     'axes.edgecolor': 'lightgray',\n",
    "                     \"figure.autolayout\": 'True',\n",
    "                     'axes.xmargin': 0.03,\n",
    "                     'axes.ymargin': 0.05,\n",
    "                     'axes.grid': False,\n",
    "                     'axes.linewidth': 5,\n",
    "                     'lines.markersize': 10,\n",
    "                     'text.usetex': True,\n",
    "                     'lines.linewidth': 8,\n",
    "                     \"legend.frameon\": True,\n",
    "                     \"legend.framealpha\": 0.7,\n",
    "                     \"legend.handletextpad\": 1,\n",
    "                     \"legend.edgecolor\": \"gray\",\n",
    "                     \"legend.handlelength\": 1,\n",
    "                     \"legend.labelspacing\": 0,\n",
    "                     \"legend.columnspacing\": 1,\n",
    "                     \"legend.fontsize\": 35,\n",
    "                    })\n",
    "linestyles = [\"-\", \"--\", \":\"]"
   ]
  },
  {
   "cell_type": "code",
   "execution_count": null,
   "id": "bd5c48ce-0b6a-4118-a075-ba014149709d",
   "metadata": {},
   "outputs": [],
   "source": [
    "def solve_MF_eq(beta_J_z):\n",
    "    m_test = 1\n",
    "    diff = m_test - np.tanh(beta_J_z * m_test / 2)\n",
    "    m_inc = -np.sign(diff) * 0.1\n",
    "    while abs(m_inc) > 1e-5:\n",
    "        while m_inc * diff < 0:\n",
    "            m_test += m_inc\n",
    "            diff = m_test - np.tanh(beta_J_z * m_test / 2)\n",
    "        m_inc /= -2\n",
    "    return m_test"
   ]
  },
  {
   "cell_type": "code",
   "execution_count": null,
   "id": "8aacdfdc-e0f0-4aac-804f-9a8458400511",
   "metadata": {},
   "outputs": [],
   "source": [
    "m_loc = 0.01\n",
    "J = 1\n",
    "z = 3\n",
    "beta = 1\n",
    "i_range = range(20)\n",
    "m_arr = []\n",
    "for i in i_range:\n",
    "    m = np.tanh(beta * J * m_loc * z / 2)\n",
    "    m_loc = m\n",
    "    m_arr.append(m)\n",
    "plt.scatter(i_range, m_arr)\n",
    "plt.axhline(solve_MF_eq(beta * J * z), 0, 1, lw=3, ls=\"--\", color=cols[1], label=r\"self-consistent value\")\n",
    "plt.ylabel(r\"$m_\\text{loc}$\")\n",
    "plt.xlabel(r\"runs\")\n",
    "plt.legend()\n",
    "plt.savefig(\"./ising_selfconsistency.pdf\", bbox_inches='tight')"
   ]
  },
  {
   "cell_type": "code",
   "execution_count": null,
   "id": "3d47330e-409a-411b-84f5-78ecd284e99e",
   "metadata": {},
   "outputs": [],
   "source": []
  }
 ],
 "metadata": {
  "kernelspec": {
   "display_name": "Python 3 (ipykernel)",
   "language": "python",
   "name": "python3"
  },
  "language_info": {
   "codemirror_mode": {
    "name": "ipython",
    "version": 3
   },
   "file_extension": ".py",
   "mimetype": "text/x-python",
   "name": "python",
   "nbconvert_exporter": "python",
   "pygments_lexer": "ipython3",
   "version": "3.9.12"
  }
 },
 "nbformat": 4,
 "nbformat_minor": 5
}
